{
 "cells": [
  {
   "cell_type": "code",
   "execution_count": 21,
   "metadata": {},
   "outputs": [
    {
     "name": "stderr",
     "output_type": "stream",
     "text": [
      "/data/mutakabbir/Lightning/venv/lib/python3.8/site-packages/geopandas/_compat.py:112: UserWarning: The Shapely GEOS version (3.10.2-CAPI-1.16.0) is incompatible with the GEOS version PyGEOS was compiled with (3.10.1-CAPI-1.16.0). Conversions between both will be slow.\n",
      "  warnings.warn(\n"
     ]
    }
   ],
   "source": [
    "import pandas as pd\n",
    "import geopandas as gpd\n",
    "from sqlalchemy import create_engine"
   ]
  },
  {
   "cell_type": "code",
   "execution_count": 3,
   "metadata": {},
   "outputs": [],
   "source": [
    "data_path = \"/data/mutakabbir/Lightning/data/ics_meta/CWEEDS_2020_stns_all_REV_20210324.xlsx\""
   ]
  },
  {
   "cell_type": "code",
   "execution_count": 16,
   "metadata": {},
   "outputs": [],
   "source": [
    "DATABASE_TYPE=\"postgresql\"\n",
    "USERNAME=\"mutakabbir\"\n",
    "PASSWORD=\"lightning\"\n",
    "HOST=\"localhost\"\n",
    "PORT=5432\n",
    "DATABASE_NAME=\"postgres\"\n",
    "ICS_META_TABLE_NAME=\"ics_meta\"\n",
    "engine = create_engine(f\"{DATABASE_TYPE}://{USERNAME}:{PASSWORD}@{HOST}:{PORT}/{DATABASE_NAME}\")"
   ]
  },
  {
   "cell_type": "code",
   "execution_count": 15,
   "metadata": {},
   "outputs": [
    {
     "data": {
      "text/html": [
       "<div>\n",
       "<style scoped>\n",
       "    .dataframe tbody tr th:only-of-type {\n",
       "        vertical-align: middle;\n",
       "    }\n",
       "\n",
       "    .dataframe tbody tr th {\n",
       "        vertical-align: top;\n",
       "    }\n",
       "\n",
       "    .dataframe thead th {\n",
       "        text-align: right;\n",
       "    }\n",
       "</style>\n",
       "<table border=\"1\" class=\"dataframe\">\n",
       "  <thead>\n",
       "    <tr style=\"text-align: right;\">\n",
       "      <th></th>\n",
       "      <th>version</th>\n",
       "      <th>name</th>\n",
       "      <th>prov</th>\n",
       "      <th>country</th>\n",
       "      <th>lat</th>\n",
       "      <th>lon</th>\n",
       "      <th>UTC_offset</th>\n",
       "      <th>elev(m)</th>\n",
       "      <th>first_yr</th>\n",
       "      <th>last_yr</th>\n",
       "    </tr>\n",
       "    <tr>\n",
       "      <th>climate_ID</th>\n",
       "      <th></th>\n",
       "      <th></th>\n",
       "      <th></th>\n",
       "      <th></th>\n",
       "      <th></th>\n",
       "      <th></th>\n",
       "      <th></th>\n",
       "      <th></th>\n",
       "      <th></th>\n",
       "      <th></th>\n",
       "    </tr>\n",
       "  </thead>\n",
       "  <tbody>\n",
       "    <tr>\n",
       "      <th>3010010</th>\n",
       "      <td>CWEEDS2011</td>\n",
       "      <td>ABEE AGDM</td>\n",
       "      <td>AB</td>\n",
       "      <td>CAN</td>\n",
       "      <td>54.28</td>\n",
       "      <td>-112.97</td>\n",
       "      <td>-7</td>\n",
       "      <td>664.0</td>\n",
       "      <td>2003</td>\n",
       "      <td>2017</td>\n",
       "    </tr>\n",
       "    <tr>\n",
       "      <th>3010237</th>\n",
       "      <td>CWEEDS2011</td>\n",
       "      <td>ANDREW AGDM</td>\n",
       "      <td>AB</td>\n",
       "      <td>CAN</td>\n",
       "      <td>53.92</td>\n",
       "      <td>-112.28</td>\n",
       "      <td>-7</td>\n",
       "      <td>625.0</td>\n",
       "      <td>2003</td>\n",
       "      <td>2017</td>\n",
       "    </tr>\n",
       "    <tr>\n",
       "      <th>3060406</th>\n",
       "      <td>CWEEDS2011</td>\n",
       "      <td>ATMORE AGDM</td>\n",
       "      <td>AB</td>\n",
       "      <td>CAN</td>\n",
       "      <td>54.78</td>\n",
       "      <td>-112.82</td>\n",
       "      <td>-7</td>\n",
       "      <td>574.0</td>\n",
       "      <td>2003</td>\n",
       "      <td>2017</td>\n",
       "    </tr>\n",
       "    <tr>\n",
       "      <th>3050519</th>\n",
       "      <td>CWEEDS2011</td>\n",
       "      <td>BANFF CS</td>\n",
       "      <td>AB</td>\n",
       "      <td>CAN</td>\n",
       "      <td>51.19</td>\n",
       "      <td>-115.55</td>\n",
       "      <td>-7</td>\n",
       "      <td>1396.9</td>\n",
       "      <td>1998</td>\n",
       "      <td>2017</td>\n",
       "    </tr>\n",
       "    <tr>\n",
       "      <th>3030525</th>\n",
       "      <td>CWEEDS2011</td>\n",
       "      <td>BARNWELL AGDM</td>\n",
       "      <td>AB</td>\n",
       "      <td>CAN</td>\n",
       "      <td>49.80</td>\n",
       "      <td>-112.30</td>\n",
       "      <td>-7</td>\n",
       "      <td>824.2</td>\n",
       "      <td>2003</td>\n",
       "      <td>2017</td>\n",
       "    </tr>\n",
       "  </tbody>\n",
       "</table>\n",
       "</div>"
      ],
      "text/plain": [
       "               version           name prov country    lat     lon  UTC_offset  \\\n",
       "climate_ID                                                                      \n",
       "3010010     CWEEDS2011      ABEE AGDM   AB     CAN  54.28 -112.97          -7   \n",
       "3010237     CWEEDS2011    ANDREW AGDM   AB     CAN  53.92 -112.28          -7   \n",
       "3060406     CWEEDS2011    ATMORE AGDM   AB     CAN  54.78 -112.82          -7   \n",
       "3050519     CWEEDS2011       BANFF CS   AB     CAN  51.19 -115.55          -7   \n",
       "3030525     CWEEDS2011  BARNWELL AGDM   AB     CAN  49.80 -112.30          -7   \n",
       "\n",
       "            elev(m)  first_yr  last_yr  \n",
       "climate_ID                              \n",
       "3010010       664.0      2003     2017  \n",
       "3010237       625.0      2003     2017  \n",
       "3060406       574.0      2003     2017  \n",
       "3050519      1396.9      1998     2017  \n",
       "3030525       824.2      2003     2017  "
      ]
     },
     "execution_count": 15,
     "metadata": {},
     "output_type": "execute_result"
    }
   ],
   "source": [
    "# read the dataset\n",
    "ics_meta_df = pd.read_excel(data_path, index_col=4)\n",
    "ics_meta_df.head()"
   ]
  },
  {
   "cell_type": "code",
   "execution_count": 23,
   "metadata": {},
   "outputs": [],
   "source": [
    "# conver to Geodataframe\n",
    "ics_meta_gdf = gpd.GeoDataFrame(\n",
    "    ics_meta_df,\n",
    "    crs=\"EPSG:4326\",\n",
    "    geometry=gpd.points_from_xy(\n",
    "        ics_meta_df.lon, \n",
    "        ics_meta_df.lat),\n",
    ")\n",
    "    "
   ]
  },
  {
   "cell_type": "code",
   "execution_count": 25,
   "metadata": {},
   "outputs": [],
   "source": [
    "try:\n",
    "    ics_meta_gdf.to_postgis(name=ICS_META_TABLE_NAME, con=engine, if_exists='replace', index=True)  \n",
    "except Exception as e:\n",
    "    print(e)"
   ]
  },
  {
   "cell_type": "code",
   "execution_count": null,
   "metadata": {},
   "outputs": [],
   "source": []
  }
 ],
 "metadata": {
  "kernelspec": {
   "display_name": "venv",
   "language": "python",
   "name": "venv"
  },
  "orig_nbformat": 4
 },
 "nbformat": 4,
 "nbformat_minor": 2
}
