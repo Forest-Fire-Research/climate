{
 "cells": [
  {
   "cell_type": "code",
   "execution_count": 51,
   "metadata": {},
   "outputs": [
    {
     "name": "stdout",
     "output_type": "stream",
     "text": [
      "Requirement already satisfied: geopandas in /home/mutakabbir/Projects/Lightning/.venv/lib/python3.10/site-packages (0.13.2)\n",
      "Requirement already satisfied: pandas in /home/mutakabbir/Projects/Lightning/.venv/lib/python3.10/site-packages (2.0.3)\n",
      "Requirement already satisfied: sqlalchemy in /home/mutakabbir/Projects/Lightning/.venv/lib/python3.10/site-packages (2.0.18)\n",
      "Requirement already satisfied: psycopg2-binary in /home/mutakabbir/Projects/Lightning/.venv/lib/python3.10/site-packages (2.9.6)\n",
      "Requirement already satisfied: openpyxl in /home/mutakabbir/Projects/Lightning/.venv/lib/python3.10/site-packages (3.1.2)\n",
      "Requirement already satisfied: geoalchemy2 in /home/mutakabbir/Projects/Lightning/.venv/lib/python3.10/site-packages (0.14.0)\n",
      "Requirement already satisfied: fiona>=1.8.19 in /home/mutakabbir/Projects/Lightning/.venv/lib/python3.10/site-packages (from geopandas) (1.9.4.post1)\n",
      "Requirement already satisfied: packaging in /home/mutakabbir/Projects/Lightning/.venv/lib/python3.10/site-packages (from geopandas) (23.1)\n",
      "Requirement already satisfied: pyproj>=3.0.1 in /home/mutakabbir/Projects/Lightning/.venv/lib/python3.10/site-packages (from geopandas) (3.6.0)\n",
      "Requirement already satisfied: shapely>=1.7.1 in /home/mutakabbir/Projects/Lightning/.venv/lib/python3.10/site-packages (from geopandas) (2.0.1)\n",
      "Requirement already satisfied: python-dateutil>=2.8.2 in /home/mutakabbir/Projects/Lightning/.venv/lib/python3.10/site-packages (from pandas) (2.8.2)\n",
      "Requirement already satisfied: pytz>=2020.1 in /home/mutakabbir/Projects/Lightning/.venv/lib/python3.10/site-packages (from pandas) (2023.3)\n",
      "Requirement already satisfied: tzdata>=2022.1 in /home/mutakabbir/Projects/Lightning/.venv/lib/python3.10/site-packages (from pandas) (2023.3)\n",
      "Requirement already satisfied: numpy>=1.21.0 in /home/mutakabbir/Projects/Lightning/.venv/lib/python3.10/site-packages (from pandas) (1.25.1)\n",
      "Requirement already satisfied: typing-extensions>=4.2.0 in /home/mutakabbir/Projects/Lightning/.venv/lib/python3.10/site-packages (from sqlalchemy) (4.7.1)\n",
      "Requirement already satisfied: greenlet!=0.4.17 in /home/mutakabbir/Projects/Lightning/.venv/lib/python3.10/site-packages (from sqlalchemy) (2.0.2)\n",
      "Requirement already satisfied: et-xmlfile in /home/mutakabbir/Projects/Lightning/.venv/lib/python3.10/site-packages (from openpyxl) (1.1.0)\n",
      "Requirement already satisfied: attrs>=19.2.0 in /home/mutakabbir/Projects/Lightning/.venv/lib/python3.10/site-packages (from fiona>=1.8.19->geopandas) (23.1.0)\n",
      "Requirement already satisfied: certifi in /home/mutakabbir/Projects/Lightning/.venv/lib/python3.10/site-packages (from fiona>=1.8.19->geopandas) (2023.5.7)\n",
      "Requirement already satisfied: click~=8.0 in /home/mutakabbir/Projects/Lightning/.venv/lib/python3.10/site-packages (from fiona>=1.8.19->geopandas) (8.1.5)\n",
      "Requirement already satisfied: click-plugins>=1.0 in /home/mutakabbir/Projects/Lightning/.venv/lib/python3.10/site-packages (from fiona>=1.8.19->geopandas) (1.1.1)\n",
      "Requirement already satisfied: cligj>=0.5 in /home/mutakabbir/Projects/Lightning/.venv/lib/python3.10/site-packages (from fiona>=1.8.19->geopandas) (0.7.2)\n",
      "Requirement already satisfied: six in /home/mutakabbir/Projects/Lightning/.venv/lib/python3.10/site-packages (from fiona>=1.8.19->geopandas) (1.16.0)\n"
     ]
    }
   ],
   "source": [
    "! pip install geopandas pandas sqlalchemy psycopg2-binary openpyxl geoalchemy2"
   ]
  },
  {
   "cell_type": "code",
   "execution_count": 52,
   "metadata": {},
   "outputs": [],
   "source": [
    "import pandas as pd\n",
    "import geopandas as gpd\n",
    "from sqlalchemy import create_engine"
   ]
  },
  {
   "cell_type": "code",
   "execution_count": 53,
   "metadata": {},
   "outputs": [],
   "source": [
    "data_path = \"../data/ics_meta/CWEEDS_2020_stns_all_REV_20210324.xlsx\""
   ]
  },
  {
   "cell_type": "code",
   "execution_count": 54,
   "metadata": {},
   "outputs": [],
   "source": [
    "DATABASE_TYPE=\"postgresql\"\n",
    "USERNAME=\"adminff\"\n",
    "PASSWORD=\"ffmodeling\"\n",
    "HOST=\"localhost\"\n",
    "PORT=5433\n",
    "DATABASE_NAME=\"ff\"\n",
    "ICS_META_TABLE_NAME=\"ics_meta\"\n",
    "engine = create_engine(f\"{DATABASE_TYPE}://{USERNAME}:{PASSWORD}@{HOST}:{PORT}/{DATABASE_NAME}\")"
   ]
  },
  {
   "cell_type": "code",
   "execution_count": 55,
   "metadata": {},
   "outputs": [
    {
     "data": {
      "text/html": [
       "<div>\n",
       "<style scoped>\n",
       "    .dataframe tbody tr th:only-of-type {\n",
       "        vertical-align: middle;\n",
       "    }\n",
       "\n",
       "    .dataframe tbody tr th {\n",
       "        vertical-align: top;\n",
       "    }\n",
       "\n",
       "    .dataframe thead th {\n",
       "        text-align: right;\n",
       "    }\n",
       "</style>\n",
       "<table border=\"1\" class=\"dataframe\">\n",
       "  <thead>\n",
       "    <tr style=\"text-align: right;\">\n",
       "      <th></th>\n",
       "      <th>version</th>\n",
       "      <th>name</th>\n",
       "      <th>prov</th>\n",
       "      <th>country</th>\n",
       "      <th>lat</th>\n",
       "      <th>lon</th>\n",
       "      <th>UTC_offset</th>\n",
       "      <th>elev(m)</th>\n",
       "      <th>first_yr</th>\n",
       "      <th>last_yr</th>\n",
       "    </tr>\n",
       "    <tr>\n",
       "      <th>climate_ID</th>\n",
       "      <th></th>\n",
       "      <th></th>\n",
       "      <th></th>\n",
       "      <th></th>\n",
       "      <th></th>\n",
       "      <th></th>\n",
       "      <th></th>\n",
       "      <th></th>\n",
       "      <th></th>\n",
       "      <th></th>\n",
       "    </tr>\n",
       "  </thead>\n",
       "  <tbody>\n",
       "    <tr>\n",
       "      <th>3010010</th>\n",
       "      <td>CWEEDS2011</td>\n",
       "      <td>ABEE AGDM</td>\n",
       "      <td>AB</td>\n",
       "      <td>CAN</td>\n",
       "      <td>54.28</td>\n",
       "      <td>-112.97</td>\n",
       "      <td>-7</td>\n",
       "      <td>664.0</td>\n",
       "      <td>2003</td>\n",
       "      <td>2017</td>\n",
       "    </tr>\n",
       "    <tr>\n",
       "      <th>3010237</th>\n",
       "      <td>CWEEDS2011</td>\n",
       "      <td>ANDREW AGDM</td>\n",
       "      <td>AB</td>\n",
       "      <td>CAN</td>\n",
       "      <td>53.92</td>\n",
       "      <td>-112.28</td>\n",
       "      <td>-7</td>\n",
       "      <td>625.0</td>\n",
       "      <td>2003</td>\n",
       "      <td>2017</td>\n",
       "    </tr>\n",
       "    <tr>\n",
       "      <th>3060406</th>\n",
       "      <td>CWEEDS2011</td>\n",
       "      <td>ATMORE AGDM</td>\n",
       "      <td>AB</td>\n",
       "      <td>CAN</td>\n",
       "      <td>54.78</td>\n",
       "      <td>-112.82</td>\n",
       "      <td>-7</td>\n",
       "      <td>574.0</td>\n",
       "      <td>2003</td>\n",
       "      <td>2017</td>\n",
       "    </tr>\n",
       "    <tr>\n",
       "      <th>3050519</th>\n",
       "      <td>CWEEDS2011</td>\n",
       "      <td>BANFF CS</td>\n",
       "      <td>AB</td>\n",
       "      <td>CAN</td>\n",
       "      <td>51.19</td>\n",
       "      <td>-115.55</td>\n",
       "      <td>-7</td>\n",
       "      <td>1396.9</td>\n",
       "      <td>1998</td>\n",
       "      <td>2017</td>\n",
       "    </tr>\n",
       "    <tr>\n",
       "      <th>3030525</th>\n",
       "      <td>CWEEDS2011</td>\n",
       "      <td>BARNWELL AGDM</td>\n",
       "      <td>AB</td>\n",
       "      <td>CAN</td>\n",
       "      <td>49.80</td>\n",
       "      <td>-112.30</td>\n",
       "      <td>-7</td>\n",
       "      <td>824.2</td>\n",
       "      <td>2003</td>\n",
       "      <td>2017</td>\n",
       "    </tr>\n",
       "  </tbody>\n",
       "</table>\n",
       "</div>"
      ],
      "text/plain": [
       "               version           name prov country    lat     lon  UTC_offset  \\\n",
       "climate_ID                                                                      \n",
       "3010010     CWEEDS2011      ABEE AGDM   AB     CAN  54.28 -112.97          -7   \n",
       "3010237     CWEEDS2011    ANDREW AGDM   AB     CAN  53.92 -112.28          -7   \n",
       "3060406     CWEEDS2011    ATMORE AGDM   AB     CAN  54.78 -112.82          -7   \n",
       "3050519     CWEEDS2011       BANFF CS   AB     CAN  51.19 -115.55          -7   \n",
       "3030525     CWEEDS2011  BARNWELL AGDM   AB     CAN  49.80 -112.30          -7   \n",
       "\n",
       "            elev(m)  first_yr  last_yr  \n",
       "climate_ID                              \n",
       "3010010       664.0      2003     2017  \n",
       "3010237       625.0      2003     2017  \n",
       "3060406       574.0      2003     2017  \n",
       "3050519      1396.9      1998     2017  \n",
       "3030525       824.2      2003     2017  "
      ]
     },
     "execution_count": 55,
     "metadata": {},
     "output_type": "execute_result"
    }
   ],
   "source": [
    "# read the dataset\n",
    "ics_meta_df = pd.read_excel(data_path, index_col=4)\n",
    "ics_meta_df.head()"
   ]
  },
  {
   "cell_type": "code",
   "execution_count": 56,
   "metadata": {},
   "outputs": [],
   "source": [
    "# conver to Geodataframe\n",
    "ics_meta_gdf = gpd.GeoDataFrame(\n",
    "    ics_meta_df,\n",
    "    crs=\"EPSG:4326\",\n",
    "    geometry=gpd.points_from_xy(\n",
    "        ics_meta_df.lon, \n",
    "        ics_meta_df.lat),\n",
    ")\n",
    "    "
   ]
  },
  {
   "cell_type": "code",
   "execution_count": 58,
   "metadata": {},
   "outputs": [],
   "source": [
    "try:\n",
    "    ics_meta_gdf.to_postgis(name=ICS_META_TABLE_NAME, con=engine, if_exists='replace', index=True)  \n",
    "except Exception as e:\n",
    "    print(e)"
   ]
  },
  {
   "cell_type": "code",
   "execution_count": null,
   "metadata": {},
   "outputs": [],
   "source": []
  }
 ],
 "metadata": {
  "kernelspec": {
   "display_name": "Python 3 (ipykernel)",
   "language": "python",
   "name": "python3"
  },
  "language_info": {
   "codemirror_mode": {
    "name": "ipython",
    "version": 3
   },
   "file_extension": ".py",
   "mimetype": "text/x-python",
   "name": "python",
   "nbconvert_exporter": "python",
   "pygments_lexer": "ipython3",
   "version": "3.10.10"
  }
 },
 "nbformat": 4,
 "nbformat_minor": 4
}
