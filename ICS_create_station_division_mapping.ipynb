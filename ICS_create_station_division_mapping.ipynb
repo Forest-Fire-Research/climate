{
 "cells": [
  {
   "cell_type": "code",
   "execution_count": 1,
   "metadata": {},
   "outputs": [],
   "source": [
    "from sqlalchemy import create_engine \n",
    "import geopandas as gpd\n",
    "from shapely.ops import nearest_points"
   ]
  },
  {
   "cell_type": "markdown",
   "metadata": {},
   "source": [
    "# Create Database Connection"
   ]
  },
  {
   "cell_type": "code",
   "execution_count": 2,
   "metadata": {},
   "outputs": [],
   "source": [
    "DATABASE_TYPE=\"postgresql\"\n",
    "USERNAME=\"adminff\"\n",
    "PASSWORD=\"ffmodeling\"\n",
    "HOST=\"localhost\"\n",
    "PORT=5433\n",
    "DATABASE_NAME=\"ff\"\n",
    "TABLE_NAME=\"division_station\""
   ]
  },
  {
   "cell_type": "code",
   "execution_count": 3,
   "metadata": {},
   "outputs": [],
   "source": [
    "engine = create_engine(f\"{DATABASE_TYPE}://{USERNAME}:{PASSWORD}@{HOST}:{PORT}/{DATABASE_NAME}\")"
   ]
  },
  {
   "cell_type": "markdown",
   "metadata": {},
   "source": [
    "## Database Constants"
   ]
  },
  {
   "cell_type": "code",
   "execution_count": 4,
   "metadata": {},
   "outputs": [],
   "source": [
    "ICS_META_TABLE_NAME=\"ics\"\n",
    "SUBDIVISION_TABLE_NAME=\"subdivision_data\""
   ]
  },
  {
   "cell_type": "code",
   "execution_count": 5,
   "metadata": {},
   "outputs": [],
   "source": [
    "subdivision_query = \"\"\"select sd.cid, sd.geometry from subdivision_dataset sd\"\"\"\n",
    "ics_mata_query = \"\"\"select im.\"climate_ID\", im.prov, im.geometry  from ics_meta im\"\"\""
   ]
  },
  {
   "cell_type": "markdown",
   "metadata": {},
   "source": [
    "# Read station and division data"
   ]
  },
  {
   "cell_type": "code",
   "execution_count": 6,
   "metadata": {},
   "outputs": [],
   "source": [
    "division_df = gpd.read_postgis(\n",
    "    sql=subdivision_query, \n",
    "    con=engine,\n",
    "    geom_col=\"geometry\",\n",
    "    crs=\"EPSG:4326\",)  \n",
    "# division_ddf = dgpd.from_geopandas(division_df, npartitions=N_PARTISIONS)\n",
    "# del division_df"
   ]
  },
  {
   "cell_type": "code",
   "execution_count": 7,
   "metadata": {},
   "outputs": [],
   "source": [
    "ics_meta_df = gpd.read_postgis(\n",
    "    sql=ics_mata_query, \n",
    "    con=engine,\n",
    "    geom_col=\"geometry\",\n",
    "    crs=\"EPSG:4326\",)  \n",
    "# ics_meta_ddf = dgpd.from_geopandas(ics_meta_df, npartitions=N_PARTISIONS)\n",
    "# del ics_meta_df"
   ]
  },
  {
   "cell_type": "markdown",
   "metadata": {},
   "source": [
    "# Find all the staions in division"
   ]
  },
  {
   "cell_type": "code",
   "execution_count": 8,
   "metadata": {},
   "outputs": [],
   "source": [
    "stations_in_subdivision = gpd.sjoin(\n",
    "    ics_meta_df,\n",
    "    division_df,\n",
    "    how=\"inner\",\n",
    "    predicate=\"within\").drop(\"index_right\", axis=1)"
   ]
  },
  {
   "cell_type": "code",
   "execution_count": 9,
   "metadata": {},
   "outputs": [
    {
     "data": {
      "text/html": [
       "<div>\n",
       "<style scoped>\n",
       "    .dataframe tbody tr th:only-of-type {\n",
       "        vertical-align: middle;\n",
       "    }\n",
       "\n",
       "    .dataframe tbody tr th {\n",
       "        vertical-align: top;\n",
       "    }\n",
       "\n",
       "    .dataframe thead th {\n",
       "        text-align: right;\n",
       "    }\n",
       "</style>\n",
       "<table border=\"1\" class=\"dataframe\">\n",
       "  <thead>\n",
       "    <tr style=\"text-align: right;\">\n",
       "      <th></th>\n",
       "      <th>climate_ID</th>\n",
       "      <th>prov</th>\n",
       "      <th>geometry</th>\n",
       "      <th>cid</th>\n",
       "    </tr>\n",
       "  </thead>\n",
       "  <tbody>\n",
       "    <tr>\n",
       "      <th>0</th>\n",
       "      <td>3010010</td>\n",
       "      <td>AB</td>\n",
       "      <td>POINT (-112.97000 54.28000)</td>\n",
       "      <td>4</td>\n",
       "    </tr>\n",
       "    <tr>\n",
       "      <th>1</th>\n",
       "      <td>3010237</td>\n",
       "      <td>AB</td>\n",
       "      <td>POINT (-112.28000 53.92000)</td>\n",
       "      <td>4</td>\n",
       "    </tr>\n",
       "    <tr>\n",
       "      <th>2</th>\n",
       "      <td>3060406</td>\n",
       "      <td>AB</td>\n",
       "      <td>POINT (-112.82000 54.78000)</td>\n",
       "      <td>4</td>\n",
       "    </tr>\n",
       "    <tr>\n",
       "      <th>33</th>\n",
       "      <td>3012275</td>\n",
       "      <td>AB</td>\n",
       "      <td>POINT (-112.87000 53.68000)</td>\n",
       "      <td>4</td>\n",
       "    </tr>\n",
       "    <tr>\n",
       "      <th>56</th>\n",
       "      <td>3013959</td>\n",
       "      <td>AB</td>\n",
       "      <td>POINT (-110.07000 53.31000)</td>\n",
       "      <td>4</td>\n",
       "    </tr>\n",
       "    <tr>\n",
       "      <th>...</th>\n",
       "      <td>...</td>\n",
       "      <td>...</td>\n",
       "      <td>...</td>\n",
       "      <td>...</td>\n",
       "    </tr>\n",
       "    <tr>\n",
       "      <th>559</th>\n",
       "      <td>2100805</td>\n",
       "      <td>YT</td>\n",
       "      <td>POINT (-139.84000 67.57000)</td>\n",
       "      <td>0</td>\n",
       "    </tr>\n",
       "    <tr>\n",
       "      <th>560</th>\n",
       "      <td>2100935</td>\n",
       "      <td>YT</td>\n",
       "      <td>POINT (-136.22000 66.98000)</td>\n",
       "      <td>0</td>\n",
       "    </tr>\n",
       "    <tr>\n",
       "      <th>561</th>\n",
       "      <td>2101102</td>\n",
       "      <td>YT</td>\n",
       "      <td>POINT (-132.73000 60.17000)</td>\n",
       "      <td>0</td>\n",
       "    </tr>\n",
       "    <tr>\n",
       "      <th>562</th>\n",
       "      <td>2101201</td>\n",
       "      <td>YT</td>\n",
       "      <td>POINT (-128.82000 60.12000)</td>\n",
       "      <td>0</td>\n",
       "    </tr>\n",
       "    <tr>\n",
       "      <th>563</th>\n",
       "      <td>2101303</td>\n",
       "      <td>YT</td>\n",
       "      <td>POINT (-135.07000 60.71000)</td>\n",
       "      <td>0</td>\n",
       "    </tr>\n",
       "  </tbody>\n",
       "</table>\n",
       "<p>510 rows × 4 columns</p>\n",
       "</div>"
      ],
      "text/plain": [
       "    climate_ID prov                     geometry  cid\n",
       "0      3010010   AB  POINT (-112.97000 54.28000)    4\n",
       "1      3010237   AB  POINT (-112.28000 53.92000)    4\n",
       "2      3060406   AB  POINT (-112.82000 54.78000)    4\n",
       "33     3012275   AB  POINT (-112.87000 53.68000)    4\n",
       "56     3013959   AB  POINT (-110.07000 53.31000)    4\n",
       "..         ...  ...                          ...  ...\n",
       "559    2100805   YT  POINT (-139.84000 67.57000)    0\n",
       "560    2100935   YT  POINT (-136.22000 66.98000)    0\n",
       "561    2101102   YT  POINT (-132.73000 60.17000)    0\n",
       "562    2101201   YT  POINT (-128.82000 60.12000)    0\n",
       "563    2101303   YT  POINT (-135.07000 60.71000)    0\n",
       "\n",
       "[510 rows x 4 columns]"
      ]
     },
     "execution_count": 9,
     "metadata": {},
     "output_type": "execute_result"
    }
   ],
   "source": [
    "stations_in_subdivision"
   ]
  },
  {
   "cell_type": "code",
   "execution_count": 10,
   "metadata": {},
   "outputs": [
    {
     "data": {
      "text/plain": [
       "510"
      ]
     },
     "execution_count": 10,
     "metadata": {},
     "output_type": "execute_result"
    }
   ],
   "source": [
    "stations_in_subdivision[['cid','climate_ID']].to_sql(name=TABLE_NAME, con=engine, if_exists='replace', index=False)"
   ]
  },
  {
   "cell_type": "code",
   "execution_count": 11,
   "metadata": {},
   "outputs": [],
   "source": [
    "stations_in_subdivision = stations_in_subdivision.groupby(\"cid\").agg(lambda group: set(group))"
   ]
  },
  {
   "cell_type": "code",
   "execution_count": 12,
   "metadata": {},
   "outputs": [
    {
     "data": {
      "text/plain": [
       "<Axes: ylabel='Frequency'>"
      ]
     },
     "execution_count": 12,
     "metadata": {},
     "output_type": "execute_result"
    },
    {
     "data": {
      "image/png": "[encoded data removed]",
      "text/plain": [
       "<Figure size 2500x500 with 1 Axes>"
      ]
     },
     "metadata": {},
     "output_type": "display_data"
    }
   ],
   "source": [
    "stations_in_subdivision.apply(lambda row: len(row.climate_ID), axis=1).plot(kind='hist',bins=35,figsize=(25, 5))"
   ]
  },
  {
   "cell_type": "code",
   "execution_count": 13,
   "metadata": {},
   "outputs": [
    {
     "name": "stdout",
     "output_type": "stream",
     "text": [
      "stations found 67\n"
     ]
    }
   ],
   "source": [
    "divisions_with_station = stations_in_subdivision.index.to_list()\n",
    "print(f\"stations found {len(divisions_with_station)}\")"
   ]
  },
  {
   "cell_type": "markdown",
   "metadata": {},
   "source": [
    "# Find the nearest station for division woth no stations"
   ]
  },
  {
   "cell_type": "code",
   "execution_count": 14,
   "metadata": {},
   "outputs": [
    {
     "data": {
      "text/html": [
       "<div>\n",
       "<style scoped>\n",
       "    .dataframe tbody tr th:only-of-type {\n",
       "        vertical-align: middle;\n",
       "    }\n",
       "\n",
       "    .dataframe tbody tr th {\n",
       "        vertical-align: top;\n",
       "    }\n",
       "\n",
       "    .dataframe thead th {\n",
       "        text-align: right;\n",
       "    }\n",
       "</style>\n",
       "<table border=\"1\" class=\"dataframe\">\n",
       "  <thead>\n",
       "    <tr style=\"text-align: right;\">\n",
       "      <th></th>\n",
       "      <th>cid</th>\n",
       "      <th>geometry</th>\n",
       "    </tr>\n",
       "  </thead>\n",
       "  <tbody>\n",
       "  </tbody>\n",
       "</table>\n",
       "</div>"
      ],
      "text/plain": [
       "Empty GeoDataFrame\n",
       "Columns: [cid, geometry]\n",
       "Index: []"
      ]
     },
     "execution_count": 14,
     "metadata": {},
     "output_type": "execute_result"
    }
   ],
   "source": [
    "division_with_no_stations = division_df[~division_df[\"cid\"].isin(divisions_with_station)]\n",
    "division_with_no_stations"
   ]
  },
  {
   "cell_type": "markdown",
   "metadata": {},
   "source": [
    "# if found divisions with no stations run below code "
   ]
  },
  {
   "cell_type": "code",
   "execution_count": 15,
   "metadata": {},
   "outputs": [],
   "source": [
    "def get_nearest_station_id(division):\n",
    "    divison_id = division.FEDUID\n",
    "    division_geomaetry = division.geometry\n",
    "    _, nearest_point = nearest_points(division_geomaetry.centroid, ics_meta_df.geometry.unary_union)\n",
    "    station_id = ics_meta_df.loc[ics_meta_df['geometry'] == nearest_point].climate_ID.values[0]\n",
    "    return station_id"
   ]
  },
  {
   "cell_type": "code",
   "execution_count": 16,
   "metadata": {},
   "outputs": [],
   "source": [
    "# division_with_no_stations['climate_ID'] = division_with_no_stations.apply(get_nearest_station_id, axis=1)"
   ]
  },
  {
   "cell_type": "code",
   "execution_count": 17,
   "metadata": {},
   "outputs": [],
   "source": [
    "# division_with_no_stations[['FEDUID','climate_ID']].to_sql(name=TABLE_NAME, con=engine, if_exists='append', index=False)"
   ]
  },
  {
   "cell_type": "markdown",
   "metadata": {},
   "source": [
    "# Add Primary Key to Table"
   ]
  },
  {
   "cell_type": "code",
   "execution_count": 19,
   "metadata": {},
   "outputs": [],
   "source": [
    "with engine.connect() as con:\n",
    "    con.execute('ALTER TABLE division_station ADD PRIMARY KEY (\"cid\", \"climate_ID\");')"
   ]
  },
  {
   "cell_type": "code",
   "execution_count": null,
   "metadata": {},
   "outputs": [],
   "source": []
  }
 ],
 "metadata": {
  "kernelspec": {
   "display_name": ".venv",
   "language": "python",
   "name": "python3"
  },
  "language_info": {
   "codemirror_mode": {
    "name": "ipython",
    "version": 3
   },
   "file_extension": ".py",
   "mimetype": "text/x-python",
   "name": "python",
   "nbconvert_exporter": "python",
   "pygments_lexer": "ipython3",
   "version": "3.10.6"
  },
  "orig_nbformat": 4
 },
 "nbformat": 4,
 "nbformat_minor": 2
}
