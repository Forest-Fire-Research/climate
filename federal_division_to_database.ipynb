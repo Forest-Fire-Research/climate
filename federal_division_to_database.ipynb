{
 "cells": [
  {
   "cell_type": "code",
   "execution_count": 2,
   "metadata": {},
   "outputs": [
    {
     "name": "stderr",
     "output_type": "stream",
     "text": [
      "/data/mutakabbir/Lightning/venv/lib/python3.8/site-packages/geopandas/_compat.py:112: UserWarning: The Shapely GEOS version (3.10.2-CAPI-1.16.0) is incompatible with the GEOS version PyGEOS was compiled with (3.10.1-CAPI-1.16.0). Conversions between both will be slow.\n",
      "  warnings.warn(\n"
     ]
    }
   ],
   "source": [
    "import geopandas as gpd\n",
    "from sqlalchemy import create_engine"
   ]
  },
  {
   "cell_type": "code",
   "execution_count": 3,
   "metadata": {},
   "outputs": [],
   "source": [
    "canada_subdivisions = \"/data/mutakabbir/Lightning/data/canada/lfed000b21a_e.zip\""
   ]
  },
  {
   "cell_type": "code",
   "execution_count": 4,
   "metadata": {},
   "outputs": [],
   "source": [
    "DATABASE_TYPE=\"postgresql\"\n",
    "USERNAME=\"mutakabbir\"\n",
    "PASSWORD=\"lightning\"\n",
    "HOST=\"localhost\"\n",
    "PORT=5432\n",
    "DATABASE_NAME=\"postgres\"\n",
    "TABLE_NAME=\"subdivision_geo\"\n",
    "engine = create_engine(f\"{DATABASE_TYPE}://{USERNAME}:{PASSWORD}@{HOST}:{PORT}/{DATABASE_NAME}\")"
   ]
  },
  {
   "cell_type": "code",
   "execution_count": 5,
   "metadata": {},
   "outputs": [
    {
     "name": "stdout",
     "output_type": "stream",
     "text": [
      "CPU times: user 16.8 s, sys: 1.81 s, total: 18.6 s\n",
      "Wall time: 18.7 s\n"
     ]
    }
   ],
   "source": [
    "%%time\n",
    "subdivisions_gpd = gpd.read_file(canada_subdivisions)\n",
    "subdivisions_gpd = subdivisions_gpd.to_crs(4326)"
   ]
  },
  {
   "cell_type": "code",
   "execution_count": 6,
   "metadata": {},
   "outputs": [],
   "source": [
    "subdivisions_gpd['FEDUID'] = subdivisions_gpd['FEDUID'].astype(int)"
   ]
  },
  {
   "cell_type": "code",
   "execution_count": 7,
   "metadata": {},
   "outputs": [],
   "source": [
    "subdivisions_gpd.set_index('FEDUID', inplace=True)"
   ]
  },
  {
   "cell_type": "code",
   "execution_count": 8,
   "metadata": {},
   "outputs": [
    {
     "data": {
      "text/html": [
       "<div>\n",
       "<style scoped>\n",
       "    .dataframe tbody tr th:only-of-type {\n",
       "        vertical-align: middle;\n",
       "    }\n",
       "\n",
       "    .dataframe tbody tr th {\n",
       "        vertical-align: top;\n",
       "    }\n",
       "\n",
       "    .dataframe thead th {\n",
       "        text-align: right;\n",
       "    }\n",
       "</style>\n",
       "<table border=\"1\" class=\"dataframe\">\n",
       "  <thead>\n",
       "    <tr style=\"text-align: right;\">\n",
       "      <th></th>\n",
       "      <th>DGUID</th>\n",
       "      <th>FEDNAME</th>\n",
       "      <th>FEDENAME</th>\n",
       "      <th>FEDFNAME</th>\n",
       "      <th>LANDAREA</th>\n",
       "      <th>PRUID</th>\n",
       "      <th>geometry</th>\n",
       "    </tr>\n",
       "    <tr>\n",
       "      <th>FEDUID</th>\n",
       "      <th></th>\n",
       "      <th></th>\n",
       "      <th></th>\n",
       "      <th></th>\n",
       "      <th></th>\n",
       "      <th></th>\n",
       "      <th></th>\n",
       "    </tr>\n",
       "  </thead>\n",
       "  <tbody>\n",
       "    <tr>\n",
       "      <th>10001</th>\n",
       "      <td>2013A000410001</td>\n",
       "      <td>Avalon</td>\n",
       "      <td>Avalon</td>\n",
       "      <td>Avalon</td>\n",
       "      <td>6357.2457</td>\n",
       "      <td>10</td>\n",
       "      <td>MULTIPOLYGON (((-53.44465 46.67495, -53.44474 ...</td>\n",
       "    </tr>\n",
       "    <tr>\n",
       "      <th>10002</th>\n",
       "      <td>2013A000410002</td>\n",
       "      <td>Bonavista--Burin--Trinity</td>\n",
       "      <td>Bonavista--Burin--Trinity</td>\n",
       "      <td>Bonavista--Burin--Trinity</td>\n",
       "      <td>16529.4593</td>\n",
       "      <td>10</td>\n",
       "      <td>MULTIPOLYGON (((-53.77539 48.71901, -53.77552 ...</td>\n",
       "    </tr>\n",
       "    <tr>\n",
       "      <th>10003</th>\n",
       "      <td>2013A000410003</td>\n",
       "      <td>Coast of Bays--Central--Notre Dame</td>\n",
       "      <td>Coast of Bays--Central--Notre Dame</td>\n",
       "      <td>Coast of Bays--Central--Notre Dame</td>\n",
       "      <td>38674.0098</td>\n",
       "      <td>10</td>\n",
       "      <td>MULTIPOLYGON (((-55.51195 49.45222, -55.51213 ...</td>\n",
       "    </tr>\n",
       "    <tr>\n",
       "      <th>10004</th>\n",
       "      <td>2013A000410004</td>\n",
       "      <td>Labrador</td>\n",
       "      <td>Labrador</td>\n",
       "      <td>Labrador</td>\n",
       "      <td>258539.4032</td>\n",
       "      <td>10</td>\n",
       "      <td>MULTIPOLYGON (((-55.60642 53.43093, -55.60651 ...</td>\n",
       "    </tr>\n",
       "    <tr>\n",
       "      <th>10005</th>\n",
       "      <td>2013A000410005</td>\n",
       "      <td>Long Range Mountains</td>\n",
       "      <td>Long Range Mountains</td>\n",
       "      <td>Long Range Mountains</td>\n",
       "      <td>37319.1682</td>\n",
       "      <td>10</td>\n",
       "      <td>MULTIPOLYGON (((-58.32368 49.25135, -58.32372 ...</td>\n",
       "    </tr>\n",
       "  </tbody>\n",
       "</table>\n",
       "</div>"
      ],
      "text/plain": [
       "                 DGUID                             FEDNAME  \\\n",
       "FEDUID                                                       \n",
       "10001   2013A000410001                              Avalon   \n",
       "10002   2013A000410002           Bonavista--Burin--Trinity   \n",
       "10003   2013A000410003  Coast of Bays--Central--Notre Dame   \n",
       "10004   2013A000410004                            Labrador   \n",
       "10005   2013A000410005                Long Range Mountains   \n",
       "\n",
       "                                  FEDENAME  \\\n",
       "FEDUID                                       \n",
       "10001                               Avalon   \n",
       "10002            Bonavista--Burin--Trinity   \n",
       "10003   Coast of Bays--Central--Notre Dame   \n",
       "10004                             Labrador   \n",
       "10005                 Long Range Mountains   \n",
       "\n",
       "                                  FEDFNAME     LANDAREA PRUID  \\\n",
       "FEDUID                                                          \n",
       "10001                               Avalon    6357.2457    10   \n",
       "10002            Bonavista--Burin--Trinity   16529.4593    10   \n",
       "10003   Coast of Bays--Central--Notre Dame   38674.0098    10   \n",
       "10004                             Labrador  258539.4032    10   \n",
       "10005                 Long Range Mountains   37319.1682    10   \n",
       "\n",
       "                                                 geometry  \n",
       "FEDUID                                                     \n",
       "10001   MULTIPOLYGON (((-53.44465 46.67495, -53.44474 ...  \n",
       "10002   MULTIPOLYGON (((-53.77539 48.71901, -53.77552 ...  \n",
       "10003   MULTIPOLYGON (((-55.51195 49.45222, -55.51213 ...  \n",
       "10004   MULTIPOLYGON (((-55.60642 53.43093, -55.60651 ...  \n",
       "10005   MULTIPOLYGON (((-58.32368 49.25135, -58.32372 ...  "
      ]
     },
     "execution_count": 8,
     "metadata": {},
     "output_type": "execute_result"
    }
   ],
   "source": [
    "subdivisions_gpd.head()"
   ]
  },
  {
   "cell_type": "code",
   "execution_count": 9,
   "metadata": {},
   "outputs": [],
   "source": [
    "try:\n",
    "    subdivisions_gpd.to_postgis(name=TABLE_NAME, con=engine, if_exists='replace', index=False)  \n",
    "except Exception as e:\n",
    "    print(e)\n"
   ]
  },
  {
   "cell_type": "code",
   "execution_count": null,
   "metadata": {},
   "outputs": [],
   "source": []
  }
 ],
 "metadata": {
  "kernelspec": {
   "display_name": "venv",
   "language": "python",
   "name": "venv"
  },
  "language_info": {
   "codemirror_mode": {
    "name": "ipython",
    "version": 3
   },
   "file_extension": ".py",
   "mimetype": "text/x-python",
   "name": "python",
   "nbconvert_exporter": "python",
   "pygments_lexer": "ipython3",
   "version": "3.8.10"
  },
  "orig_nbformat": 4
 },
 "nbformat": 4,
 "nbformat_minor": 2
}
